{
 "cells": [
  {
   "cell_type": "code",
   "execution_count": null,
   "metadata": {},
   "outputs": [],
   "source": [
    "import warnings\n",
    "warnings.filterwarnings(action='ignore')"
   ]
  },
  {
   "cell_type": "code",
   "execution_count": 1,
   "metadata": {
    "colab": {
     "base_uri": "https://localhost:8080/",
     "height": 265
    },
    "colab_type": "code",
    "executionInfo": {
     "elapsed": 928,
     "status": "ok",
     "timestamp": 1596787799044,
     "user": {
      "displayName": "신석원",
      "photoUrl": "",
      "userId": "02673663347043904044"
     },
     "user_tz": -540
    },
    "id": "j17tHEW59dmm",
    "outputId": "98d2f263-cdc3-4a2f-9dae-0f3260162895"
   },
   "outputs": [
    {
     "data": {
      "image/png": "[encoded data removed]",
      "text/plain": [
       "<Figure size 432x288 with 1 Axes>"
      ]
     },
     "metadata": {
      "needs_background": "light"
     },
     "output_type": "display_data"
    }
   ],
   "source": [
    "import numpy as np\n",
    "from matplotlib import pyplot as plt\n",
    "s = np.sin(2 * np.pi * 0.125 * np.arange(20))\n",
    "plt.plot(s,'ro-')\n",
    "plt.xlim(-0.5,20.5)\n",
    "plt.ylim(-1.1,1.1)\n",
    "plt.show() "
   ]
  },
  {
   "cell_type": "code",
   "execution_count": 2,
   "metadata": {
    "colab": {
     "base_uri": "https://localhost:8080/",
     "height": 107
    },
    "colab_type": "code",
    "executionInfo": {
     "elapsed": 969,
     "status": "ok",
     "timestamp": 1596787916587,
     "user": {
      "displayName": "신석원",
      "photoUrl": "",
      "userId": "02673663347043904044"
     },
     "user_tz": -540
    },
    "id": "usSrjyvl967z",
    "outputId": "6a55957c-4f31-4da8-a078-f6a3247ad007"
   },
   "outputs": [
    {
     "data": {
      "text/plain": [
       "array([[ 0.00000000e+00,  7.07106781e-01,  1.00000000e+00],\n",
       "       [ 7.07106781e-01,  1.00000000e+00,  7.07106781e-01],\n",
       "       [ 1.00000000e+00,  7.07106781e-01,  1.22464680e-16],\n",
       "       [ 7.07106781e-01,  1.22464680e-16, -7.07106781e-01],\n",
       "       [ 1.22464680e-16, -7.07106781e-01, -1.00000000e+00]])"
      ]
     },
     "execution_count": 2,
     "metadata": {},
     "output_type": "execute_result"
    }
   ],
   "source": [
    "from scipy.linalg import toeplitz\n",
    "S = np.fliplr(toeplitz(np.r_[s[-1], np.zeros(s.shape[0] - 2)], s[::-1]))\n",
    "S[:5, :3]"
   ]
  },
  {
   "cell_type": "code",
   "execution_count": 3,
   "metadata": {
    "colab": {
     "base_uri": "https://localhost:8080/",
     "height": 35
    },
    "colab_type": "code",
    "executionInfo": {
     "elapsed": 776,
     "status": "ok",
     "timestamp": 1596787965551,
     "user": {
      "displayName": "신석원",
      "photoUrl": "",
      "userId": "02673663347043904044"
     },
     "user_tz": -540
    },
    "id": "Gz-YgBca-ZKG",
    "outputId": "5721419a-1613-4a1a-b4ca-559133574c0e"
   },
   "outputs": [
    {
     "data": {
      "text/plain": [
       "((18, 3, 1), (18,))"
      ]
     },
     "execution_count": 3,
     "metadata": {},
     "output_type": "execute_result"
    }
   ],
   "source": [
    "X_train = S[:-1, :3][:, :, np.newaxis]\n",
    "Y_train = S[:-1,3]\n",
    "X_train.shape, Y_train.shape"
   ]
  },
  {
   "cell_type": "code",
   "execution_count": null,
   "metadata": {
    "colab": {
     "base_uri": "https://localhost:8080/",
     "height": 233
    },
    "colab_type": "code",
    "executionInfo": {
     "elapsed": 830,
     "status": "ok",
     "timestamp": 1596788102821,
     "user": {
      "displayName": "신석원",
      "photoUrl": "",
      "userId": "02673663347043904044"
     },
     "user_tz": -540
    },
    "id": "n23EVyQ8-rsM",
    "outputId": "65c4f6af-5e8d-482e-a8fd-bf1a75e09653"
   },
   "outputs": [],
   "source": [
    "from keras.models import Sequential\n",
    "from keras.layers import SimpleRNN, Dense\n",
    "\n",
    "np.random.seed(0)\n",
    "model = Sequential()\n",
    "model.add(SimpleRNN(10, input_shape=(3,1)))\n",
    "model.add(Dense(1, activation='linear'))\n",
    "model.compile(loss='mse', optimizer='sgd')\n",
    "model.summary()"
   ]
  },
  {
   "cell_type": "code",
   "execution_count": null,
   "metadata": {
    "colab": {
     "base_uri": "https://localhost:8080/",
     "height": 281
    },
    "colab_type": "code",
    "executionInfo": {
     "elapsed": 2678,
     "status": "ok",
     "timestamp": 1596788199968,
     "user": {
      "displayName": "신석원",
      "photoUrl": "",
      "userId": "02673663347043904044"
     },
     "user_tz": -540
    },
    "id": "80UDf5jP_Igb",
    "outputId": "a270d404-1683-4828-b867-d2c434efe9d1"
   },
   "outputs": [],
   "source": [
    "plt.plot(Y_train, 'ro-', label= 'target')\n",
    "plt.plot(model.predict(X_train[:,:,:]), 'bs-', label='output')\n",
    "plt.xlim(-0.5,20.5)\n",
    "plt.ylim(-1.1,1.1)\n",
    "plt.legend()\n",
    "plt.title('Before training')\n",
    "plt.show()"
   ]
  },
  {
   "cell_type": "code",
   "execution_count": null,
   "metadata": {
    "colab": {},
    "colab_type": "code",
    "executionInfo": {
     "elapsed": 1805,
     "status": "ok",
     "timestamp": 1596788235278,
     "user": {
      "displayName": "신석원",
      "photoUrl": "",
      "userId": "02673663347043904044"
     },
     "user_tz": -540
    },
    "id": "DXKGRDmE_kdb"
   },
   "outputs": [],
   "source": [
    "history = model.fit(X_train,Y_train, epochs = 100, verbose=0)"
   ]
  },
  {
   "cell_type": "code",
   "execution_count": null,
   "metadata": {
    "colab": {
     "base_uri": "https://localhost:8080/",
     "height": 281
    },
    "colab_type": "code",
    "executionInfo": {
     "elapsed": 784,
     "status": "ok",
     "timestamp": 1596788262481,
     "user": {
      "displayName": "신석원",
      "photoUrl": "",
      "userId": "02673663347043904044"
     },
     "user_tz": -540
    },
    "id": "8JogrQdY_tS_",
    "outputId": "c8592b3d-aa08-4977-85c9-2ce687961e5a"
   },
   "outputs": [],
   "source": [
    "plt.plot(history.history['loss'])\n",
    "plt.title('loss')\n",
    "plt.show()"
   ]
  },
  {
   "cell_type": "code",
   "execution_count": null,
   "metadata": {
    "colab": {
     "base_uri": "https://localhost:8080/",
     "height": 281
    },
    "colab_type": "code",
    "executionInfo": {
     "elapsed": 1159,
     "status": "ok",
     "timestamp": 1596788326445,
     "user": {
      "displayName": "신석원",
      "photoUrl": "",
      "userId": "02673663347043904044"
     },
     "user_tz": -540
    },
    "id": "uXuinQ00_0Mc",
    "outputId": "81a3b3d8-bf4b-43bb-f818-98bcb1116a9b"
   },
   "outputs": [],
   "source": [
    "plt.plot(Y_train, 'ro-', label= 'target')\n",
    "plt.plot(model.predict(X_train[:,:,:]), 'bs-', label='output')\n",
    "plt.xlim(-0.5,20.5)\n",
    "plt.ylim(-1.1,1.1)\n",
    "plt.legend()\n",
    "plt.title('After training')\n",
    "plt.show()"
   ]
  },
  {
   "cell_type": "code",
   "execution_count": null,
   "metadata": {
    "colab": {},
    "colab_type": "code",
    "id": "6KfeYVR1ADuA"
   },
   "outputs": [],
   "source": []
  }
 ],
 "metadata": {
  "accelerator": "GPU",
  "colab": {
   "authorship_tag": "ABX9TyNaazYZbNF4xClYt7qHeYlx",
   "collapsed_sections": [],
   "name": "RNN.ipynb",
   "provenance": []
  },
  "kernelspec": {
   "display_name": "Python 3",
   "language": "python",
   "name": "python3"
  },
  "language_info": {
   "codemirror_mode": {
    "name": "ipython",
    "version": 3
   },
   "file_extension": ".py",
   "mimetype": "text/x-python",
   "name": "python",
   "nbconvert_exporter": "python",
   "pygments_lexer": "ipython3",
   "version": "3.9.4"
  }
 },
 "nbformat": 4,
 "nbformat_minor": 1
}
