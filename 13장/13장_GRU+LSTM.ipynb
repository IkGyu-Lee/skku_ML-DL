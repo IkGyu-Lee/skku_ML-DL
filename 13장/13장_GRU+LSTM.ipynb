{
 "cells": [
  {
   "cell_type": "code",
   "execution_count": null,
   "metadata": {},
   "outputs": [],
   "source": [
    "import warnings\n",
    "warnings.filterwarnings(action='ignore')"
   ]
  },
  {
   "cell_type": "code",
   "execution_count": 1,
   "metadata": {
    "colab": {},
    "colab_type": "code",
    "executionInfo": {
     "elapsed": 1378,
     "status": "ok",
     "timestamp": 1596788398409,
     "user": {
      "displayName": "신석원",
      "photoUrl": "",
      "userId": "02673663347043904044"
     },
     "user_tz": -540
    },
    "id": "FLmT2IUvANKN"
   },
   "outputs": [],
   "source": [
    "import numpy as np\n",
    "from matplotlib import pyplot as plt\n",
    "s = np.sin(2 * np.pi * 0.125 * np.arange(20))\n",
    "from scipy.linalg import toeplitz\n",
    "S = np.fliplr(toeplitz(np.r_[s[-1], np.zeros(s.shape[0] - 2)], s[::-1]))\n",
    "\n",
    "X_train = S[:-1, :3][:, :, np.newaxis]\n",
    "Y_train = S[:-1,3]"
   ]
  },
  {
   "cell_type": "code",
   "execution_count": null,
   "metadata": {
    "colab": {
     "base_uri": "https://localhost:8080/",
     "height": 233
    },
    "colab_type": "code",
    "executionInfo": {
     "elapsed": 1188,
     "status": "ok",
     "timestamp": 1596788425265,
     "user": {
      "displayName": "신석원",
      "photoUrl": "",
      "userId": "02673663347043904044"
     },
     "user_tz": -540
    },
    "id": "Dd8t9iwOATgW",
    "outputId": "df30bd89-1ae4-4be2-c877-d214a89f5dfa"
   },
   "outputs": [],
   "source": [
    "from keras.models import Sequential\n",
    "from keras.layers import LSTM, Dense\n",
    "\n",
    "np.random.seed(0)\n",
    "model = Sequential()\n",
    "model.add(LSTM(10, input_shape=(3,1)))\n",
    "model.add(Dense(1, activation='linear'))\n",
    "model.compile(loss='mse', optimizer='sgd')\n",
    "model.summary()"
   ]
  },
  {
   "cell_type": "code",
   "execution_count": null,
   "metadata": {
    "colab": {
     "base_uri": "https://localhost:8080/",
     "height": 281
    },
    "colab_type": "code",
    "executionInfo": {
     "elapsed": 3312,
     "status": "ok",
     "timestamp": 1596788447930,
     "user": {
      "displayName": "신석원",
      "photoUrl": "",
      "userId": "02673663347043904044"
     },
     "user_tz": -540
    },
    "id": "8d-77ZnnAb1s",
    "outputId": "e5c21edf-0dc3-4439-c418-e69cb7ea8c40"
   },
   "outputs": [],
   "source": [
    "history = model.fit(X_train,Y_train, epochs = 100, verbose=0)\n",
    "plt.plot(history.history['loss'])\n",
    "plt.title('loss')\n",
    "plt.show()"
   ]
  },
  {
   "cell_type": "code",
   "execution_count": null,
   "metadata": {
    "colab": {
     "base_uri": "https://localhost:8080/",
     "height": 281
    },
    "colab_type": "code",
    "executionInfo": {
     "elapsed": 1748,
     "status": "ok",
     "timestamp": 1596788459651,
     "user": {
      "displayName": "신석원",
      "photoUrl": "",
      "userId": "02673663347043904044"
     },
     "user_tz": -540
    },
    "id": "x05gqv62Ag2k",
    "outputId": "ef0208ed-4c56-49c2-c38f-e09f131aae4e"
   },
   "outputs": [],
   "source": [
    "plt.plot(Y_train, 'ro-', label= 'target')\n",
    "plt.plot(model.predict(X_train[:,:,:]), 'bs-', label='output')\n",
    "plt.xlim(-0.5,20.5)\n",
    "plt.ylim(-1.1,1.1)\n",
    "plt.legend()\n",
    "plt.title('After training')\n",
    "plt.show()"
   ]
  },
  {
   "cell_type": "code",
   "execution_count": null,
   "metadata": {
    "colab": {},
    "colab_type": "code",
    "executionInfo": {
     "elapsed": 5748,
     "status": "ok",
     "timestamp": 1596788490692,
     "user": {
      "displayName": "신석원",
      "photoUrl": "",
      "userId": "02673663347043904044"
     },
     "user_tz": -540
    },
    "id": "SQl-CekJAkGQ"
   },
   "outputs": [],
   "source": [
    "history = model.fit(X_train,Y_train, epochs = 2000, verbose=0)"
   ]
  },
  {
   "cell_type": "code",
   "execution_count": null,
   "metadata": {
    "colab": {
     "base_uri": "https://localhost:8080/",
     "height": 281
    },
    "colab_type": "code",
    "executionInfo": {
     "elapsed": 1226,
     "status": "ok",
     "timestamp": 1596788492977,
     "user": {
      "displayName": "신석원",
      "photoUrl": "",
      "userId": "02673663347043904044"
     },
     "user_tz": -540
    },
    "id": "TNzW8mEfAn5w",
    "outputId": "5d73e11d-91a0-4cfe-a5ef-b5231cb1eacd"
   },
   "outputs": [],
   "source": [
    "plt.plot(Y_train, 'ro-', label= 'target')\n",
    "plt.plot(model.predict(X_train[:,:,:]), 'bs-', label='output')\n",
    "plt.xlim(-0.5,20.5)\n",
    "plt.ylim(-1.1,1.1)\n",
    "plt.legend()\n",
    "plt.title('After training')\n",
    "plt.show()"
   ]
  },
  {
   "cell_type": "code",
   "execution_count": null,
   "metadata": {
    "colab": {
     "base_uri": "https://localhost:8080/",
     "height": 233
    },
    "colab_type": "code",
    "executionInfo": {
     "elapsed": 982,
     "status": "ok",
     "timestamp": 1596788515578,
     "user": {
      "displayName": "신석원",
      "photoUrl": "",
      "userId": "02673663347043904044"
     },
     "user_tz": -540
    },
    "id": "YXLzVOP8Aoyc",
    "outputId": "0b902433-0442-4eca-f2e2-bc05336e0f78"
   },
   "outputs": [],
   "source": [
    "from keras.models import Sequential\n",
    "from keras.layers import GRU, Dense\n",
    "\n",
    "np.random.seed(0)\n",
    "model = Sequential()\n",
    "model.add(GRU(10, input_shape=(3,1)))\n",
    "model.add(Dense(1, activation='linear'))\n",
    "model.compile(loss='mse', optimizer='sgd')\n",
    "model.summary()"
   ]
  },
  {
   "cell_type": "code",
   "execution_count": null,
   "metadata": {
    "colab": {},
    "colab_type": "code",
    "executionInfo": {
     "elapsed": 2719,
     "status": "ok",
     "timestamp": 1596788530125,
     "user": {
      "displayName": "신석원",
      "photoUrl": "",
      "userId": "02673663347043904044"
     },
     "user_tz": -540
    },
    "id": "RWbZ1YeUAx5Q"
   },
   "outputs": [],
   "source": [
    "history = model.fit(X_train,Y_train, epochs = 100, verbose=0)"
   ]
  },
  {
   "cell_type": "code",
   "execution_count": null,
   "metadata": {
    "colab": {
     "base_uri": "https://localhost:8080/",
     "height": 281
    },
    "colab_type": "code",
    "executionInfo": {
     "elapsed": 1500,
     "status": "ok",
     "timestamp": 1596788533664,
     "user": {
      "displayName": "신석원",
      "photoUrl": "",
      "userId": "02673663347043904044"
     },
     "user_tz": -540
    },
    "id": "TApXNIifA1EM",
    "outputId": "da0926d6-cdcd-46d5-cfe4-b119a9604983"
   },
   "outputs": [],
   "source": [
    "plt.plot(Y_train, 'ro-', label= 'target')\n",
    "plt.plot(model.predict(X_train[:,:,:]), 'bs-', label='output')\n",
    "plt.xlim(-0.5,20.5)\n",
    "plt.ylim(-1.1,1.1)\n",
    "plt.legend()\n",
    "plt.title('After training')\n",
    "plt.show()"
   ]
  },
  {
   "cell_type": "code",
   "execution_count": null,
   "metadata": {
    "colab": {},
    "colab_type": "code",
    "id": "sUIRYii2A2Ok"
   },
   "outputs": [],
   "source": []
  }
 ],
 "metadata": {
  "colab": {
   "authorship_tag": "ABX9TyMTDYrGKPBa2ra/Kd8Cxy1p",
   "collapsed_sections": [],
   "name": "GRU+LSTM.ipynb",
   "provenance": []
  },
  "kernelspec": {
   "display_name": "Python 3",
   "language": "python",
   "name": "python3"
  },
  "language_info": {
   "codemirror_mode": {
    "name": "ipython",
    "version": 3
   },
   "file_extension": ".py",
   "mimetype": "text/x-python",
   "name": "python",
   "nbconvert_exporter": "python",
   "pygments_lexer": "ipython3",
   "version": "3.9.4"
  }
 },
 "nbformat": 4,
 "nbformat_minor": 1
}
