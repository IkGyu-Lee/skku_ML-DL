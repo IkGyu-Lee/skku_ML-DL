{
 "cells": [
  {
   "cell_type": "code",
   "execution_count": 1,
   "metadata": {},
   "outputs": [],
   "source": [
    "import warnings\n",
    "warnings.filterwarnings(action='ignore')"
   ]
  },
  {
   "cell_type": "code",
   "execution_count": null,
   "metadata": {
    "colab": {
     "base_uri": "https://localhost:8080/",
     "height": 35
    },
    "colab_type": "code",
    "executionInfo": {
     "elapsed": 3377,
     "status": "ok",
     "timestamp": 1596185589784,
     "user": {
      "displayName": "신석원",
      "photoUrl": "",
      "userId": "02673663347043904044"
     },
     "user_tz": -540
    },
    "id": "bvfvXCxjEMAK",
    "outputId": "cdcd7095-6165-4b18-dc86-d6cb325a01aa"
   },
   "outputs": [],
   "source": [
    "import tensorflow\n",
    "\n",
    "from __future__ import print_function\n",
    "import keras\n",
    "from keras.datasets import mnist\n",
    "from keras.models import Sequential\n",
    "from keras.layers import Dense,Dropout,Flatten\n",
    "from keras.layers import Conv2D, MaxPooling2D\n",
    "from keras import backend as K"
   ]
  },
  {
   "cell_type": "code",
   "execution_count": null,
   "metadata": {
    "colab": {},
    "colab_type": "code",
    "executionInfo": {
     "elapsed": 1512,
     "status": "ok",
     "timestamp": 1596185608437,
     "user": {
      "displayName": "신석원",
      "photoUrl": "",
      "userId": "02673663347043904044"
     },
     "user_tz": -540
    },
    "id": "GfDc-NmSEwke"
   },
   "outputs": [],
   "source": [
    "batch_size = 128\n",
    "num_classes = 10\n",
    "epoch = 12"
   ]
  },
  {
   "cell_type": "code",
   "execution_count": null,
   "metadata": {
    "colab": {},
    "colab_type": "code",
    "executionInfo": {
     "elapsed": 1510,
     "status": "ok",
     "timestamp": 1596186246368,
     "user": {
      "displayName": "신석원",
      "photoUrl": "",
      "userId": "02673663347043904044"
     },
     "user_tz": -540
    },
    "id": "Fog3rl1EE3rj"
   },
   "outputs": [],
   "source": [
    "img_rows, img_cols = 28,28\n",
    "(x_train,y_train),(x_test,y_test) = mnist.load_data()\n",
    "if K.image_data_format() == 'channels_first':\n",
    "  x_train = x_train.reshape(x_train.shape[0],1,img_rows,img_cols)\n",
    "  x_test = x_test.reshape(x_test.shape[0],1,img_rows,img_cols)\n",
    "  input_shape = (1,img_rows,img_cols)\n",
    "else: \n",
    "  x_train = x_train.reshape(x_train.shape[0],img_rows,img_cols,1)\n",
    "  x_test = x_test.reshape(x_test.shape[0],img_rows,img_cols,1)\n",
    "  input_shape = (img_rows,img_cols,1)"
   ]
  },
  {
   "cell_type": "code",
   "execution_count": null,
   "metadata": {
    "colab": {},
    "colab_type": "code",
    "executionInfo": {
     "elapsed": 1563,
     "status": "ok",
     "timestamp": 1596186263231,
     "user": {
      "displayName": "신석원",
      "photoUrl": "",
      "userId": "02673663347043904044"
     },
     "user_tz": -540
    },
    "id": "G7cdn-QJFg_q"
   },
   "outputs": [],
   "source": [
    "y_train = tensorflow.keras.utils.to_categorical(y_train,num_classes)\n",
    "y_test = tensorflow.keras.utils.to_categorical(y_test,num_classes)"
   ]
  },
  {
   "cell_type": "code",
   "execution_count": null,
   "metadata": {
    "colab": {},
    "colab_type": "code",
    "executionInfo": {
     "elapsed": 1587,
     "status": "ok",
     "timestamp": 1596186322258,
     "user": {
      "displayName": "신석원",
      "photoUrl": "",
      "userId": "02673663347043904044"
     },
     "user_tz": -540
    },
    "id": "_okczofFFqvX"
   },
   "outputs": [],
   "source": [
    "model = Sequential()\n",
    "model.add(Conv2D(32, kernel_size=(3,3),\n",
    "                 activation='relu',\n",
    "                 input_shape=input_shape))\n",
    "model.add(MaxPooling2D(pool_size=(2,2)))\n",
    "model.add(Dropout(0.25))\n",
    "model.add(Flatten())\n",
    "model.add(Dense(128, activation='relu'))\n",
    "model.add(Dropout(0.5))\n",
    "model.add(Dense(num_classes, activation='softmax'))"
   ]
  },
  {
   "cell_type": "code",
   "execution_count": null,
   "metadata": {
    "colab": {},
    "colab_type": "code",
    "executionInfo": {
     "elapsed": 1551,
     "status": "ok",
     "timestamp": 1596186326978,
     "user": {
      "displayName": "신석원",
      "photoUrl": "",
      "userId": "02673663347043904044"
     },
     "user_tz": -540
    },
    "id": "wABI-tMdGMCW"
   },
   "outputs": [],
   "source": [
    "model.compile(loss=keras.losses.categorical_crossentropy,\n",
    "              optimizer=keras.optimizers.Adadelta(),\n",
    "              metrics=['accuracy'])"
   ]
  },
  {
   "cell_type": "code",
   "execution_count": null,
   "metadata": {
    "colab": {
     "base_uri": "https://localhost:8080/",
     "height": 461
    },
    "colab_type": "code",
    "executionInfo": {
     "elapsed": 28166,
     "status": "ok",
     "timestamp": 1596186359952,
     "user": {
      "displayName": "신석원",
      "photoUrl": "",
      "userId": "02673663347043904044"
     },
     "user_tz": -540
    },
    "id": "kqPAJr_yGZqS",
    "outputId": "864a2bd3-fc8a-4388-bb6d-05bb436f745b"
   },
   "outputs": [],
   "source": [
    "model.fit(x_train,y_train,\n",
    "          batch_size=batch_size,\n",
    "          epochs = epoch,\n",
    "          verbose=1)"
   ]
  },
  {
   "cell_type": "code",
   "execution_count": null,
   "metadata": {
    "colab": {
     "base_uri": "https://localhost:8080/",
     "height": 52
    },
    "colab_type": "code",
    "executionInfo": {
     "elapsed": 1998,
     "status": "ok",
     "timestamp": 1596186403046,
     "user": {
      "displayName": "신석원",
      "photoUrl": "",
      "userId": "02673663347043904044"
     },
     "user_tz": -540
    },
    "id": "-fkPFWRCGove",
    "outputId": "415dbb60-3469-462e-e8b5-e33cf44f8edf"
   },
   "outputs": [],
   "source": [
    "score=model.evaluate(x_test,y_test,verbose=0)\n",
    "print('Test loss : ',score[0])\n",
    "print('Test acc : ',score[1])"
   ]
  },
  {
   "cell_type": "code",
   "execution_count": null,
   "metadata": {
    "colab": {},
    "colab_type": "code",
    "executionInfo": {
     "elapsed": 1255,
     "status": "ok",
     "timestamp": 1596186415451,
     "user": {
      "displayName": "신석원",
      "photoUrl": "",
      "userId": "02673663347043904044"
     },
     "user_tz": -540
    },
    "id": "vy5nVwVkHHph"
   },
   "outputs": [],
   "source": [
    "model2 = Sequential()\n",
    "model2.add(Conv2D(32, kernel_size=(3,3),\n",
    "                 activation='relu',\n",
    "                 input_shape=input_shape))\n",
    "model2.add(Conv2D(32,(3,3),activation='relu'))\n",
    "model2.add(MaxPooling2D(pool_size=(2,2)))\n",
    "model2.add(Dropout(0.25))\n",
    "model2.add(Flatten())\n",
    "model2.add(Dense(128, activation='relu'))\n",
    "model2.add(Dropout(0.5))\n",
    "model2.add(Dense(num_classes, activation='softmax'))"
   ]
  },
  {
   "cell_type": "code",
   "execution_count": null,
   "metadata": {
    "colab": {
     "base_uri": "https://localhost:8080/",
     "height": 485
    },
    "colab_type": "code",
    "executionInfo": {
     "elapsed": 42492,
     "status": "ok",
     "timestamp": 1596186489536,
     "user": {
      "displayName": "신석원",
      "photoUrl": "",
      "userId": "02673663347043904044"
     },
     "user_tz": -540
    },
    "id": "WxsuuxxkH8rN",
    "outputId": "35d47230-f741-4fbd-b7b3-7347f9a9deea"
   },
   "outputs": [],
   "source": [
    "model2.compile(loss=keras.losses.categorical_crossentropy,\n",
    "              optimizer=keras.optimizers.Adadelta(),\n",
    "              metrics=['accuracy'])\n",
    "model2.fit(x_train,y_train,\n",
    "          batch_size=batch_size,\n",
    "          epochs = epoch,\n",
    "          verbose=1)\n",
    "score=model2.evaluate(x_test,y_test,verbose=0)\n",
    "print('Test loss : ',score[0])\n",
    "print('Test acc : ',score[1])"
   ]
  },
  {
   "cell_type": "code",
   "execution_count": null,
   "metadata": {
    "colab": {},
    "colab_type": "code",
    "id": "ublCjnNYIEyg"
   },
   "outputs": [],
   "source": []
  }
 ],
 "metadata": {
  "accelerator": "GPU",
  "colab": {
   "authorship_tag": "ABX9TyNZpwXkaIyq5mwdi5g7fF4o",
   "collapsed_sections": [],
   "name": "CNNforMNIST.ipynb",
   "provenance": []
  },
  "kernelspec": {
   "display_name": "Python 3",
   "language": "python",
   "name": "python3"
  },
  "language_info": {
   "codemirror_mode": {
    "name": "ipython",
    "version": 3
   },
   "file_extension": ".py",
   "mimetype": "text/x-python",
   "name": "python",
   "nbconvert_exporter": "python",
   "pygments_lexer": "ipython3",
   "version": "3.9.4"
  }
 },
 "nbformat": 4,
 "nbformat_minor": 1
}
