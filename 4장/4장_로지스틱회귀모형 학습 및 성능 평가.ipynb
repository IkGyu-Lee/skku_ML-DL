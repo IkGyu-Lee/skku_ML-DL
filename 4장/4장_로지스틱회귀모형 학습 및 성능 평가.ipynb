{
 "cells": [
  {
   "cell_type": "code",
   "execution_count": 1,
   "metadata": {},
   "outputs": [],
   "source": [
    "import warnings\n",
    "warnings.filterwarnings(action='ignore')"
   ]
  },
  {
   "cell_type": "code",
   "execution_count": 2,
   "metadata": {},
   "outputs": [],
   "source": [
    "import numpy as np\n",
    "import pandas as pd\n",
    "import matplotlib.pyplot as plt\n",
    "import seaborn as sns\n",
    "import sklearn\n",
    "from sklearn.metrics import *\n",
    "from pandas import DataFrame, Series\n",
    "\n",
    "plt.style.use('seaborn')\n",
    "sns.set(font_scale=2.5) \n",
    "df_train = pd.read_csv('train.csv')\n",
    "df_test = pd.read_csv('test.csv')\n",
    "train = df_train.drop(['Cabin', 'Embarked', 'Name', 'Ticket', 'PassengerId'],axis=1)\n",
    "test = df_test.drop(['Cabin', 'Embarked', 'Name', 'Ticket'],axis=1)\n",
    "train[\"Age\"].fillna(train.groupby(\"Sex\")[\"Age\"].transform(\"mean\"), inplace=True)\n",
    "test[\"Age\"].fillna(test.groupby(\"Sex\")[\"Age\"].transform(\"mean\"), inplace=True)\n",
    "test[\"Fare\"].fillna(test.groupby(\"Sex\")[\"Fare\"].transform(\"median\"), inplace=True)\n",
    "sex_mapping = {\"male\": 0, \"female\": 1}\n",
    "train['Sex'] = train['Sex'].map(sex_mapping)\n",
    "test['Sex'] = test['Sex'].map(sex_mapping)\n",
    "age_mean = train['Age'].mean()\n",
    "age_std = train['Age'].std()\n",
    "indexNames = train[train['Age'] < age_mean - 3*age_std].index\n",
    "train.drop(indexNames , inplace=True)\n",
    "indexNames = train[train['Age'] > age_mean + 3*age_std].index\n",
    "train.drop(indexNames , inplace=True)\n",
    "fare_mean = train['Fare'].mean()\n",
    "fare_std = train['Fare'].std()\n",
    "indexNames = train[train['Fare'] < fare_mean - 3*fare_std].index\n",
    "train.drop(indexNames , inplace=True)\n",
    "indexNames = train[train['Fare'] > fare_mean + 3*fare_std].index\n",
    "train.drop(indexNames , inplace=True)\n",
    "#'4장_Titanic dataset 탐색 및 전처리.ipynb'에서 전처리 코드만 실행하는 부분"
   ]
  },
  {
   "cell_type": "code",
   "execution_count": 3,
   "metadata": {},
   "outputs": [],
   "source": [
    "from sklearn.linear_model import LogisticRegression\n",
    "from sklearn import metrics\n",
    "from sklearn.model_selection import train_test_split\n",
    "\n",
    "X_train = train.drop('Survived', axis=1).values\n",
    "target_label = train['Survived'].values\n",
    "X_test = test.values"
   ]
  },
  {
   "cell_type": "code",
   "execution_count": 4,
   "metadata": {},
   "outputs": [
    {
     "data": {
      "text/plain": [
       "((864, 6), (418, 7))"
      ]
     },
     "execution_count": 4,
     "metadata": {},
     "output_type": "execute_result"
    }
   ],
   "source": [
    "X_train.shape, X_test.shape"
   ]
  },
  {
   "cell_type": "code",
   "execution_count": 5,
   "metadata": {},
   "outputs": [
    {
     "data": {
      "text/plain": [
       "((691,), (173,))"
      ]
     },
     "execution_count": 5,
     "metadata": {},
     "output_type": "execute_result"
    }
   ],
   "source": [
    "X_tr, X_vld, y_tr, y_vld = train_test_split(X_train, target_label, test_size=0.2, random_state=2020)\n",
    "y_tr.shape, y_vld.shape"
   ]
  },
  {
   "cell_type": "code",
   "execution_count": 6,
   "metadata": {},
   "outputs": [],
   "source": [
    "model = LogisticRegression()\n",
    "model.fit(X_tr, y_tr)\n",
    "prediction = model.predict(X_vld)"
   ]
  },
  {
   "cell_type": "code",
   "execution_count": 7,
   "metadata": {},
   "outputs": [
    {
     "data": {
      "text/plain": [
       "array([1, 0, 0, 0, 1, 0, 1, 1, 0, 0, 0, 0, 1, 1, 0, 0, 1, 0, 0, 1, 0, 0,\n",
       "       1, 1, 1, 1, 0, 0, 1, 1, 1, 0, 0, 0, 1, 0, 0, 1, 0, 0, 0, 0, 1, 0,\n",
       "       0, 1, 0, 1, 0, 1, 1, 1, 0, 1, 1, 0, 0, 0, 1, 1, 1, 1, 0, 0, 1, 1,\n",
       "       0, 0, 0, 1, 0, 1, 1, 0, 1, 0, 0, 0, 0, 0, 0, 0, 0, 1, 0, 0, 1, 0,\n",
       "       0, 0, 0, 1, 0, 1, 0, 0, 1, 1, 0, 0, 0, 0, 0, 0, 0, 1, 0, 0, 0, 0,\n",
       "       0, 1, 0, 0, 0, 1, 1, 0, 0, 0, 0, 0, 1, 0, 0, 0, 1, 0, 0, 0, 0, 0,\n",
       "       1, 1, 0, 0, 0, 0, 1, 0, 0, 1, 0, 0, 0, 0, 1, 0, 1, 1, 0, 1, 0, 1,\n",
       "       1, 0, 1, 1, 0, 0, 0, 0, 1, 1, 1, 1, 1, 0, 0, 1, 0, 0, 0])"
      ]
     },
     "execution_count": 7,
     "metadata": {},
     "output_type": "execute_result"
    }
   ],
   "source": [
    "prediction"
   ]
  },
  {
   "cell_type": "code",
   "execution_count": 8,
   "metadata": {},
   "outputs": [
    {
     "name": "stdout",
     "output_type": "stream",
     "text": [
      "Number of people: 173 \n",
      "accuracy: 78.03% \n"
     ]
    }
   ],
   "source": [
    "print('Number of people: {} \\naccuracy: {:.2f}% '.format(y_vld.shape[0], 100 * accuracy_score(y_vld,prediction)))"
   ]
  },
  {
   "cell_type": "code",
   "execution_count": 9,
   "metadata": {},
   "outputs": [
    {
     "data": {
      "text/plain": [
       "array([[94, 24],\n",
       "       [14, 41]])"
      ]
     },
     "execution_count": 9,
     "metadata": {},
     "output_type": "execute_result"
    }
   ],
   "source": [
    "confusion_matrix(y_vld,prediction)"
   ]
  },
  {
   "cell_type": "code",
   "execution_count": 10,
   "metadata": {},
   "outputs": [
    {
     "name": "stdout",
     "output_type": "stream",
     "text": [
      "Precision: 63.08% \n",
      "Recall: 74.55% \n",
      "F1-score: 68.33% \n"
     ]
    }
   ],
   "source": [
    "print('Precision: {:.2f}% \\nRecall: {:.2f}% \\nF1-score: {:.2f}% '.format(100*precision_score(y_vld,prediction),\n",
    "                                                                         100*recall_score(y_vld,prediction),100*f1_score(y_vld,prediction)))"
   ]
  },
  {
   "cell_type": "code",
   "execution_count": 11,
   "metadata": {},
   "outputs": [
    {
     "data": {
      "text/html": [
       "<div>\n",
       "<style scoped>\n",
       "    .dataframe tbody tr th:only-of-type {\n",
       "        vertical-align: middle;\n",
       "    }\n",
       "\n",
       "    .dataframe tbody tr th {\n",
       "        vertical-align: top;\n",
       "    }\n",
       "\n",
       "    .dataframe thead th {\n",
       "        text-align: right;\n",
       "    }\n",
       "</style>\n",
       "<table border=\"1\" class=\"dataframe\">\n",
       "  <thead>\n",
       "    <tr style=\"text-align: right;\">\n",
       "      <th></th>\n",
       "      <th>CUTOFF</th>\n",
       "      <th>ACC</th>\n",
       "      <th>F1</th>\n",
       "      <th>TPR</th>\n",
       "      <th>FPR</th>\n",
       "    </tr>\n",
       "  </thead>\n",
       "  <tbody>\n",
       "    <tr>\n",
       "      <th>0</th>\n",
       "      <td>0.000000</td>\n",
       "      <td>0.317919</td>\n",
       "      <td>0.482456</td>\n",
       "      <td>0.000000</td>\n",
       "      <td>0.000000</td>\n",
       "    </tr>\n",
       "    <tr>\n",
       "      <th>1</th>\n",
       "      <td>0.010101</td>\n",
       "      <td>0.323699</td>\n",
       "      <td>0.484581</td>\n",
       "      <td>0.008475</td>\n",
       "      <td>0.000000</td>\n",
       "    </tr>\n",
       "    <tr>\n",
       "      <th>2</th>\n",
       "      <td>0.020202</td>\n",
       "      <td>0.323699</td>\n",
       "      <td>0.484581</td>\n",
       "      <td>0.008475</td>\n",
       "      <td>0.000000</td>\n",
       "    </tr>\n",
       "    <tr>\n",
       "      <th>3</th>\n",
       "      <td>0.030303</td>\n",
       "      <td>0.329480</td>\n",
       "      <td>0.486726</td>\n",
       "      <td>0.016949</td>\n",
       "      <td>0.000000</td>\n",
       "    </tr>\n",
       "    <tr>\n",
       "      <th>4</th>\n",
       "      <td>0.040404</td>\n",
       "      <td>0.329480</td>\n",
       "      <td>0.486726</td>\n",
       "      <td>0.016949</td>\n",
       "      <td>0.000000</td>\n",
       "    </tr>\n",
       "    <tr>\n",
       "      <th>...</th>\n",
       "      <td>...</td>\n",
       "      <td>...</td>\n",
       "      <td>...</td>\n",
       "      <td>...</td>\n",
       "      <td>...</td>\n",
       "    </tr>\n",
       "    <tr>\n",
       "      <th>95</th>\n",
       "      <td>0.959596</td>\n",
       "      <td>0.687861</td>\n",
       "      <td>0.100000</td>\n",
       "      <td>0.983051</td>\n",
       "      <td>0.945455</td>\n",
       "    </tr>\n",
       "    <tr>\n",
       "      <th>96</th>\n",
       "      <td>0.969697</td>\n",
       "      <td>0.687861</td>\n",
       "      <td>0.100000</td>\n",
       "      <td>0.983051</td>\n",
       "      <td>0.945455</td>\n",
       "    </tr>\n",
       "    <tr>\n",
       "      <th>97</th>\n",
       "      <td>0.979798</td>\n",
       "      <td>0.676301</td>\n",
       "      <td>0.034483</td>\n",
       "      <td>0.983051</td>\n",
       "      <td>0.981818</td>\n",
       "    </tr>\n",
       "    <tr>\n",
       "      <th>98</th>\n",
       "      <td>0.989899</td>\n",
       "      <td>0.676301</td>\n",
       "      <td>0.000000</td>\n",
       "      <td>0.991525</td>\n",
       "      <td>1.000000</td>\n",
       "    </tr>\n",
       "    <tr>\n",
       "      <th>99</th>\n",
       "      <td>1.000000</td>\n",
       "      <td>0.682081</td>\n",
       "      <td>0.000000</td>\n",
       "      <td>1.000000</td>\n",
       "      <td>1.000000</td>\n",
       "    </tr>\n",
       "  </tbody>\n",
       "</table>\n",
       "<p>100 rows × 5 columns</p>\n",
       "</div>"
      ],
      "text/plain": [
       "      CUTOFF       ACC        F1       TPR       FPR\n",
       "0   0.000000  0.317919  0.482456  0.000000  0.000000\n",
       "1   0.010101  0.323699  0.484581  0.008475  0.000000\n",
       "2   0.020202  0.323699  0.484581  0.008475  0.000000\n",
       "3   0.030303  0.329480  0.486726  0.016949  0.000000\n",
       "4   0.040404  0.329480  0.486726  0.016949  0.000000\n",
       "..       ...       ...       ...       ...       ...\n",
       "95  0.959596  0.687861  0.100000  0.983051  0.945455\n",
       "96  0.969697  0.687861  0.100000  0.983051  0.945455\n",
       "97  0.979798  0.676301  0.034483  0.983051  0.981818\n",
       "98  0.989899  0.676301  0.000000  0.991525  1.000000\n",
       "99  1.000000  0.682081  0.000000  1.000000  1.000000\n",
       "\n",
       "[100 rows x 5 columns]"
      ]
     },
     "execution_count": 11,
     "metadata": {},
     "output_type": "execute_result"
    }
   ],
   "source": [
    "#cut off 조절에 따른 모델의 성능을 평가해 보기 위하여 cut off 값 생성 및 각각의 성능 지표 도출\n",
    "#cut off 값은 다양하게 선택 가능.\n",
    "list = []\n",
    "for i in np.linspace(0,1,100):\n",
    "    pred = model.predict_proba(X_vld)[:,1] > i\n",
    "    cf_mtx = confusion_matrix(y_vld, pred)\n",
    "    acc = accuracy_score(y_vld, pred)\n",
    "    tpr = cf_mtx[0,0] / cf_mtx[0].sum()\n",
    "    fpr = cf_mtx[1,0] / cf_mtx[1].sum()\n",
    "    f1 = f1_score(y_vld, pred)\n",
    "    list.append([i, acc, f1, tpr, fpr])\n",
    "\n",
    "cut_off = DataFrame(list)\n",
    "cut_off.columns = [\"CUTOFF\", \"ACC\", \"F1\", \"TPR\", \"FPR\"]\n",
    "cut_off"
   ]
  },
  {
   "cell_type": "code",
   "execution_count": 12,
   "metadata": {},
   "outputs": [
    {
     "data": {
      "text/plain": [
       "<matplotlib.legend.Legend at 0x7ff15012b510>"
      ]
     },
     "execution_count": 12,
     "metadata": {},
     "output_type": "execute_result"
    },
    {
     "data": {
      "image/png": "[encoded data removed]",
      "text/plain": [
       "<Figure size 720x720 with 1 Axes>"
      ]
     },
     "metadata": {},
     "output_type": "display_data"
    }
   ],
   "source": [
    "from sklearn.metrics import roc_curve, auc\n",
    "fpr, tpr, thresholds = roc_curve(y_vld, prediction)\n",
    "roc_auc = auc(fpr, tpr)\n",
    "\n",
    "plt.figure(figsize=(10,10))\n",
    "plt.plot(cut_off[\"FPR\"],cut_off[\"TPR\"], color=\"darkorange\", lw=1, label=\"ROC curve (area=%.2f)\" %roc_auc)\n",
    "plt.plot([0,1], [0,1], color='navy', lw=1, linestyle='--')\n",
    "plt.title(\"ROC curve\")\n",
    "plt.xlabel(\"FPR\")\n",
    "plt.ylabel(\"TPR\")\n",
    "plt.legend(loc=\"lower right\")"
   ]
  },
  {
   "cell_type": "code",
   "execution_count": 13,
   "metadata": {},
   "outputs": [
    {
     "data": {
      "text/html": [
       "<div>\n",
       "<style scoped>\n",
       "    .dataframe tbody tr th:only-of-type {\n",
       "        vertical-align: middle;\n",
       "    }\n",
       "\n",
       "    .dataframe tbody tr th {\n",
       "        vertical-align: top;\n",
       "    }\n",
       "\n",
       "    .dataframe thead th {\n",
       "        text-align: right;\n",
       "    }\n",
       "</style>\n",
       "<table border=\"1\" class=\"dataframe\">\n",
       "  <thead>\n",
       "    <tr style=\"text-align: right;\">\n",
       "      <th></th>\n",
       "      <th>CUTOFF</th>\n",
       "      <th>ACC</th>\n",
       "      <th>F1</th>\n",
       "      <th>TPR</th>\n",
       "      <th>FPR</th>\n",
       "    </tr>\n",
       "  </thead>\n",
       "  <tbody>\n",
       "    <tr>\n",
       "      <th>70</th>\n",
       "      <td>0.707071</td>\n",
       "      <td>0.803468</td>\n",
       "      <td>0.653061</td>\n",
       "      <td>0.90678</td>\n",
       "      <td>0.418182</td>\n",
       "    </tr>\n",
       "  </tbody>\n",
       "</table>\n",
       "</div>"
      ],
      "text/plain": [
       "      CUTOFF       ACC        F1      TPR       FPR\n",
       "70  0.707071  0.803468  0.653061  0.90678  0.418182"
      ]
     },
     "execution_count": 13,
     "metadata": {},
     "output_type": "execute_result"
    }
   ],
   "source": [
    "cut_off[cut_off[\"ACC\"] == cut_off[\"ACC\"].max()] #accuracy가 최대인 값"
   ]
  },
  {
   "cell_type": "code",
   "execution_count": 14,
   "metadata": {},
   "outputs": [
    {
     "data": {
      "text/plain": [
       "0.7070707070707072"
      ]
     },
     "execution_count": 14,
     "metadata": {},
     "output_type": "execute_result"
    }
   ],
   "source": [
    "cut_off_ACC_MAX = cut_off[cut_off[\"ACC\"] == cut_off[\"ACC\"].max()][\"CUTOFF\"][70]\n",
    "cut_off_ACC_MAX"
   ]
  },
  {
   "cell_type": "code",
   "execution_count": 15,
   "metadata": {},
   "outputs": [],
   "source": [
    "pred_ACC_MAX = model.predict_proba(X_vld)[:,1] > cut_off_ACC_MAX"
   ]
  },
  {
   "cell_type": "code",
   "execution_count": 16,
   "metadata": {},
   "outputs": [
    {
     "data": {
      "text/plain": [
       "array([[107,  11],\n",
       "       [ 23,  32]])"
      ]
     },
     "execution_count": 16,
     "metadata": {},
     "output_type": "execute_result"
    }
   ],
   "source": [
    "confusion_matrix(y_vld,pred_ACC_MAX)"
   ]
  },
  {
   "cell_type": "code",
   "execution_count": 17,
   "metadata": {},
   "outputs": [
    {
     "data": {
      "text/html": [
       "<div>\n",
       "<style scoped>\n",
       "    .dataframe tbody tr th:only-of-type {\n",
       "        vertical-align: middle;\n",
       "    }\n",
       "\n",
       "    .dataframe tbody tr th {\n",
       "        vertical-align: top;\n",
       "    }\n",
       "\n",
       "    .dataframe thead th {\n",
       "        text-align: right;\n",
       "    }\n",
       "</style>\n",
       "<table border=\"1\" class=\"dataframe\">\n",
       "  <thead>\n",
       "    <tr style=\"text-align: right;\">\n",
       "      <th></th>\n",
       "      <th>CUTOFF</th>\n",
       "      <th>ACC</th>\n",
       "      <th>F1</th>\n",
       "      <th>TPR</th>\n",
       "      <th>FPR</th>\n",
       "    </tr>\n",
       "  </thead>\n",
       "  <tbody>\n",
       "    <tr>\n",
       "      <th>45</th>\n",
       "      <td>0.454545</td>\n",
       "      <td>0.791908</td>\n",
       "      <td>0.714286</td>\n",
       "      <td>0.779661</td>\n",
       "      <td>0.181818</td>\n",
       "    </tr>\n",
       "  </tbody>\n",
       "</table>\n",
       "</div>"
      ],
      "text/plain": [
       "      CUTOFF       ACC        F1       TPR       FPR\n",
       "45  0.454545  0.791908  0.714286  0.779661  0.181818"
      ]
     },
     "execution_count": 17,
     "metadata": {},
     "output_type": "execute_result"
    }
   ],
   "source": [
    "cut_off[cut_off[\"F1\"] == cut_off[\"F1\"].max()] #F1-score가 최대인 값"
   ]
  },
  {
   "cell_type": "code",
   "execution_count": 18,
   "metadata": {},
   "outputs": [
    {
     "data": {
      "text/plain": [
       "0.4545454545454546"
      ]
     },
     "execution_count": 18,
     "metadata": {},
     "output_type": "execute_result"
    }
   ],
   "source": [
    "cut_off_F1_MAX = cut_off[cut_off[\"F1\"] == cut_off[\"F1\"].max()][\"CUTOFF\"][45]\n",
    "cut_off_F1_MAX"
   ]
  },
  {
   "cell_type": "code",
   "execution_count": 19,
   "metadata": {},
   "outputs": [],
   "source": [
    "pred_F1_MAX = model.predict_proba(X_vld)[:,1] > cut_off_F1_MAX"
   ]
  },
  {
   "cell_type": "code",
   "execution_count": 20,
   "metadata": {},
   "outputs": [
    {
     "data": {
      "text/plain": [
       "array([[92, 26],\n",
       "       [10, 45]])"
      ]
     },
     "execution_count": 20,
     "metadata": {},
     "output_type": "execute_result"
    }
   ],
   "source": [
    "confusion_matrix(y_vld,pred_F1_MAX)"
   ]
  },
  {
   "cell_type": "code",
   "execution_count": null,
   "metadata": {},
   "outputs": [],
   "source": []
  }
 ],
 "metadata": {
  "kernelspec": {
   "display_name": "machinelearning",
   "language": "python",
   "name": "machinelearning"
  },
  "language_info": {
   "codemirror_mode": {
    "name": "ipython",
    "version": 3
   },
   "file_extension": ".py",
   "mimetype": "text/x-python",
   "name": "python",
   "nbconvert_exporter": "python",
   "pygments_lexer": "ipython3",
   "version": "3.7.10"
  }
 },
 "nbformat": 4,
 "nbformat_minor": 2
}
